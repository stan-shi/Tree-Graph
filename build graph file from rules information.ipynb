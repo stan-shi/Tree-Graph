{
 "cells": [
  {
   "cell_type": "code",
   "execution_count": 2,
   "metadata": {},
   "outputs": [],
   "source": [
    "import pandas as pd\n",
    "import numpy as np"
   ]
  },
  {
   "cell_type": "code",
   "execution_count": 35,
   "metadata": {},
   "outputs": [],
   "source": [
    "a,b,c,d,e,f,g,h = np.loadtxt('C:/Users/cshi/OneDrive - University of Connecticut/2019-20_Fall/First_Year_Project/Random Forest/WineQualityRed/FindMaxClique/BuildGraphInstances/RandomForestsInstances/S1.txt', skiprows = 1, unpack = True)"
   ]
  },
  {
   "cell_type": "code",
   "execution_count": 45,
   "metadata": {},
   "outputs": [],
   "source": [
    "SplitIndex = a.astype('int')\n",
    "TreeIndex = b.astype('int')\n",
    "LeafIndex = c.astype('int')\n",
    "LeafValue = d.astype('float')\n",
    "SplitFeature = e.astype('int')\n",
    "SplitSign = f.astype('int')\n",
    "SplitCriterion = g.astype('float')\n",
    "SplitNodeIndex = h.astype('int')"
   ]
  },
  {
   "cell_type": "code",
   "execution_count": 51,
   "metadata": {},
   "outputs": [],
   "source": [
    "SplitData = np.array([SplitIndex, TreeIndex, LeafIndex, LeafValue, SplitFeature, SplitSign, SplitCriterion, SplitNodeIndex], dtype = object)"
   ]
  },
  {
   "cell_type": "code",
   "execution_count": 52,
   "metadata": {},
   "outputs": [
    {
     "data": {
      "text/plain": [
       "(8, 240)"
      ]
     },
     "execution_count": 52,
     "metadata": {},
     "output_type": "execute_result"
    }
   ],
   "source": [
    "SplitData.shape"
   ]
  },
  {
   "cell_type": "code",
   "execution_count": 53,
   "metadata": {
    "scrolled": false
   },
   "outputs": [
    {
     "data": {
      "text/plain": [
       "array([[0, 1, 2, ..., 237, 238, 239],\n",
       "       [0, 0, 0, ..., 9, 9, 9],\n",
       "       [0, 0, 0, ..., 7, 7, 7],\n",
       "       ...,\n",
       "       [0, 0, 0, ..., 1, 1, 1],\n",
       "       [10.15, 0.5749, 10.55, ..., 0.0589, 0.865, 10.65],\n",
       "       [2, 1, 0, ..., 6, 4, 0]], dtype=object)"
      ]
     },
     "execution_count": 53,
     "metadata": {},
     "output_type": "execute_result"
    }
   ],
   "source": [
    "SplitData"
   ]
  },
  {
   "cell_type": "code",
   "execution_count": 106,
   "metadata": {
    "scrolled": false
   },
   "outputs": [
    {
     "data": {
      "text/plain": [
       "24"
      ]
     },
     "execution_count": 106,
     "metadata": {},
     "output_type": "execute_result"
    }
   ],
   "source": [
    "len(np.unique(SplitData[1])) #number of trees in the random forests\n",
    "len(np.unique(np.where((SplitData[1] == 0)))) #number of split rules in tree_0\n",
    "np.unique(SplitData[2][np.where((SplitData[1] == 0))]) #number of leaves of tree_0"
   ]
  },
  {
   "cell_type": "code",
   "execution_count": 120,
   "metadata": {
    "scrolled": true
   },
   "outputs": [
    {
     "data": {
      "text/plain": [
       "array([3, 4, 5], dtype=int64)"
      ]
     },
     "execution_count": 120,
     "metadata": {},
     "output_type": "execute_result"
    }
   ],
   "source": [
    "x = np.where((SplitData[1] == 0) * (SplitData[2] == 1))\n",
    "x[0]\n",
    "#x[0]: generate Split Index for leaves, Leaf ID = (SplitData[1] == i) * (SplitData[2] == j), i: Tree Index, j: Leaf Index \n",
    "#len(x[0]) \n",
    "#Split Index of splits for that leaf"
   ]
  },
  {
   "cell_type": "code",
   "execution_count": null,
   "metadata": {},
   "outputs": [],
   "source": [
    "#function of checking whether two rules(intervals) have non-empty intersection\n",
    "def Intersection(rule_a, rule_b):\n",
    "    if rule_a[0] == rule_b[0]:\n",
    "        if rule_a[1] == rule_b[1]:\n",
    "            return True\n",
    "        else:\n",
    "            if rule_a[1] == 1:\n",
    "                if rule_a[2] < rule_b[2]:\n",
    "                    return True\n",
    "                else:\n",
    "                    return False\n",
    "            else:\n",
    "                if rule_a[2] > rule_b[2]:\n",
    "                    return True\n",
    "                else:\n",
    "                    return False\n",
    "    else:\n",
    "        return True"
   ]
  },
  {
   "cell_type": "code",
   "execution_count": null,
   "metadata": {},
   "outputs": [],
   "source": [
    "#checking whether two sets of rules have non-empty intersection\n",
    "def Consistency(rule_set_a, rule_set_b):\n",
    "    while True:\n",
    "        for a in rule_set_a:\n",
    "            for b in rule_set_b:\n",
    "                if Intersection(a, b) == True:\n",
    "                    continue\n",
    "                else:\n",
    "                    return False\n",
    "        return True"
   ]
  },
  {
   "cell_type": "code",
   "execution_count": 270,
   "metadata": {
    "scrolled": true
   },
   "outputs": [],
   "source": [
    "# Generate main-graphs:\n",
    "# For each leaf node of the main tree, find all the leaf nodes from sibling trees that are consistent with that leaf node.\n",
    "Main_TreeIndex = 0\n",
    "Vertices_Main = {}\n",
    "Edges_Main = {} # not necessary\n",
    "for i in range(len(np.unique(SplitData[2][np.where((SplitData[1] == Main_TreeIndex))]))): # leaf nodes in the main tree\n",
    "    Vertices_Main[i] = []\n",
    "    Edges_Main[i] = []\n",
    "    Vertices_Main[i].append([str('n'), Main_TreeIndex, i, SplitData[3][np.where((SplitData[1] == Main_TreeIndex) * (SplitData[2] == i))[0]][0]])\n",
    "    \n",
    "    #Split rules for leaf[0, i], SplitData[1] == 0, SplitData[2] == i\n",
    "    leaf_split_feature = SplitData[4][np.where((SplitData[1] == Main_TreeIndex) * (SplitData[2] == i))[0]] # Split Feature\n",
    "    leaf_split_sign = SplitData[5][np.where((SplitData[1] == Main_TreeIndex) * (SplitData[2] == i))[0]] # Split Sign\n",
    "    leaf_split_criterion = SplitData[6][np.where((SplitData[1] == Main_TreeIndex) * (SplitData[2] == i))[0]] # Split Criterion\n",
    "    Rules_Leaf_Main_Tree = np.transpose(np.array([leaf_split_feature, leaf_split_sign, leaf_split_criterion], dtype = object))\n",
    "    #Go to sibling trees\n",
    "    for j in range(1, len(np.unique(SplitData[1]))):\n",
    "        for k in range(len(np.unique(SplitData[2][np.where((SplitData[1] == j))]))):\n",
    "            leaf_split_feature = SplitData[4][np.where((SplitData[1] == j) * (SplitData[2] == k))[0]] # Split Feature\n",
    "            leaf_split_sign = SplitData[5][np.where((SplitData[1] == j) * (SplitData[2] == k))[0]] # Split Sign\n",
    "            leaf_split_criterion = SplitData[6][np.where((SplitData[1] == j) * (SplitData[2] == k))[0]] # Split Criterion\n",
    "            Rules_Leaf_Sibling_Tree = np.transpose(np.array([leaf_split_feature, leaf_split_sign, leaf_split_criterion], dtype = object))\n",
    "            if Consistency(Rules_Leaf_Main_Tree, Rules_Leaf_Sibling_Tree) == True:\n",
    "                Vertices_Main[i].append([str('n'), j, k, SplitData[3][np.where((SplitData[1] == j) * (SplitData[2] == k))[0]][0]])\n",
    "                Edges_Main[i].append([str('e'), Main_TreeIndex, i, j, k])\n",
    "\n",
    "                "
   ]
  },
  {
   "cell_type": "code",
   "execution_count": 307,
   "metadata": {},
   "outputs": [
    {
     "name": "stdout",
     "output_type": "stream",
     "text": [
      "2\n",
      "3\n",
      "4\n",
      "5\n",
      "6\n",
      "7\n",
      "8\n",
      "9\n",
      "3\n",
      "4\n",
      "5\n",
      "6\n",
      "7\n",
      "8\n",
      "9\n",
      "4\n",
      "5\n",
      "6\n",
      "7\n",
      "8\n",
      "9\n",
      "5\n",
      "6\n",
      "7\n",
      "8\n",
      "9\n",
      "6\n",
      "7\n",
      "8\n",
      "9\n",
      "7\n",
      "8\n",
      "9\n",
      "8\n",
      "9\n",
      "9\n",
      "2\n",
      "3\n",
      "4\n",
      "5\n",
      "6\n",
      "7\n",
      "8\n",
      "9\n",
      "3\n",
      "4\n",
      "5\n",
      "6\n",
      "7\n",
      "8\n",
      "9\n",
      "4\n",
      "5\n",
      "6\n",
      "7\n",
      "8\n",
      "9\n",
      "5\n",
      "6\n",
      "7\n",
      "8\n",
      "9\n",
      "6\n",
      "7\n",
      "8\n",
      "9\n",
      "7\n",
      "8\n",
      "9\n",
      "8\n",
      "9\n",
      "9\n",
      "1\n",
      "3\n",
      "4\n",
      "5\n",
      "6\n",
      "7\n",
      "8\n",
      "9\n",
      "3\n",
      "4\n",
      "5\n",
      "6\n",
      "7\n",
      "8\n",
      "9\n",
      "4\n",
      "5\n",
      "6\n",
      "7\n",
      "8\n",
      "9\n",
      "5\n",
      "6\n",
      "7\n",
      "8\n",
      "9\n",
      "6\n",
      "7\n",
      "8\n",
      "9\n",
      "7\n",
      "8\n",
      "9\n",
      "8\n",
      "9\n",
      "9\n",
      "1\n",
      "2\n",
      "4\n",
      "5\n",
      "6\n",
      "7\n",
      "8\n",
      "9\n",
      "2\n",
      "4\n",
      "5\n",
      "6\n",
      "7\n",
      "8\n",
      "9\n",
      "4\n",
      "5\n",
      "6\n",
      "7\n",
      "8\n",
      "9\n",
      "5\n",
      "6\n",
      "7\n",
      "8\n",
      "9\n",
      "6\n",
      "7\n",
      "8\n",
      "9\n",
      "7\n",
      "8\n",
      "9\n",
      "8\n",
      "9\n",
      "9\n",
      "1\n",
      "2\n",
      "3\n",
      "5\n",
      "6\n",
      "7\n",
      "8\n",
      "9\n",
      "2\n",
      "3\n",
      "5\n",
      "6\n",
      "7\n",
      "8\n",
      "9\n",
      "3\n",
      "5\n",
      "6\n",
      "7\n",
      "8\n",
      "9\n",
      "5\n",
      "6\n",
      "7\n",
      "8\n",
      "9\n",
      "6\n",
      "7\n",
      "8\n",
      "9\n",
      "7\n",
      "8\n",
      "9\n",
      "8\n",
      "9\n",
      "9\n",
      "1\n",
      "2\n",
      "3\n",
      "4\n",
      "6\n",
      "7\n",
      "8\n",
      "9\n",
      "2\n",
      "3\n",
      "4\n",
      "6\n",
      "7\n",
      "8\n",
      "9\n",
      "3\n",
      "4\n",
      "6\n",
      "7\n",
      "8\n",
      "9\n",
      "4\n",
      "6\n",
      "7\n",
      "8\n",
      "9\n",
      "6\n",
      "7\n",
      "8\n",
      "9\n",
      "7\n",
      "8\n",
      "9\n",
      "8\n",
      "9\n",
      "9\n",
      "1\n",
      "2\n",
      "3\n",
      "4\n",
      "5\n",
      "7\n",
      "8\n",
      "9\n",
      "2\n",
      "3\n",
      "4\n",
      "5\n",
      "7\n",
      "8\n",
      "9\n",
      "3\n",
      "4\n",
      "5\n",
      "7\n",
      "8\n",
      "9\n",
      "4\n",
      "5\n",
      "7\n",
      "8\n",
      "9\n",
      "5\n",
      "7\n",
      "8\n",
      "9\n",
      "7\n",
      "8\n",
      "9\n",
      "8\n",
      "9\n",
      "9\n",
      "1\n",
      "2\n",
      "3\n",
      "4\n",
      "5\n",
      "6\n",
      "8\n",
      "9\n",
      "2\n",
      "3\n",
      "4\n",
      "5\n",
      "6\n",
      "8\n",
      "9\n",
      "3\n",
      "4\n",
      "5\n",
      "6\n",
      "8\n",
      "9\n",
      "4\n",
      "5\n",
      "6\n",
      "8\n",
      "9\n",
      "5\n",
      "6\n",
      "8\n",
      "9\n",
      "6\n",
      "8\n",
      "9\n",
      "8\n",
      "9\n",
      "9\n"
     ]
    }
   ],
   "source": [
    "# Create sub-graph:\n",
    "# For each Vertice_Main[i], check consistency among the leaf nodes other than the leaf node from the main tree\n",
    "Vertices_Sub = {}\n",
    "Edges_Sub = {}\n",
    "Main_graph = {}\n",
    "for i in range(len(np.unique(SplitData[2][np.where((SplitData[1] == Main_TreeIndex))]))): # leaf nodes in the main tree\n",
    "    Main_graph[i] = np.array(Vertices_Main[i], dtype = object) # Transform generated vertices from list to array\n",
    "    exclude = [i] # 0 is tree index of main tree, \n",
    "    for j in np.delete(np.unique(Main_graph[i][:, 1]), i): # Start from nodes that not from the main tree\n",
    "        exclude.append(j)\n",
    "        for k in np.delete(np.unique(Main_graph[i][:, 1]), exclude):\n",
    "    \n",
    "            print (k)\n",
    "        \n",
    "        "
   ]
  },
  {
   "cell_type": "code",
   "execution_count": 293,
   "metadata": {},
   "outputs": [
    {
     "data": {
      "text/plain": [
       "array([2, 3, 4, 5, 6, 7, 8, 9], dtype=object)"
      ]
     },
     "execution_count": 293,
     "metadata": {},
     "output_type": "execute_result"
    }
   ],
   "source": [
    "np.delete(np.unique(np.array(Vertices_Main[0], dtype = object)[:, 1]), [0,1])"
   ]
  },
  {
   "cell_type": "code",
   "execution_count": 302,
   "metadata": {},
   "outputs": [
    {
     "data": {
      "text/plain": [
       "array([2, 3, 4, 5, 6, 7, 8, 9], dtype=object)"
      ]
     },
     "execution_count": 302,
     "metadata": {},
     "output_type": "execute_result"
    }
   ],
   "source": [
    "np.delete(np.unique(np.array(Vertices_Main[0], dtype = object)[:, 1]), exclude)"
   ]
  },
  {
   "cell_type": "code",
   "execution_count": 305,
   "metadata": {
    "scrolled": true
   },
   "outputs": [
    {
     "name": "stdout",
     "output_type": "stream",
     "text": [
      "2\n",
      "3\n",
      "4\n",
      "5\n",
      "6\n",
      "7\n",
      "8\n",
      "9\n",
      "3\n",
      "4\n",
      "5\n",
      "6\n",
      "7\n",
      "8\n",
      "9\n",
      "4\n",
      "5\n",
      "6\n",
      "7\n",
      "8\n",
      "9\n",
      "5\n",
      "6\n",
      "7\n",
      "8\n",
      "9\n",
      "6\n",
      "7\n",
      "8\n",
      "9\n",
      "7\n",
      "8\n",
      "9\n",
      "8\n",
      "9\n",
      "9\n"
     ]
    }
   ],
   "source": [
    "exclude = [0] # 0 is tree index of main tree, \n",
    "Main_graph[0] = np.array(Vertices_Main[0], dtype = object)\n",
    "for j in np.delete(np.unique(Main_graph[0][:, 1]), 0): # Start from nodes of Sibling tree 1\n",
    "    \n",
    "    exclude.append(j)\n",
    "    for k in # for every nodes from sibling tree 1\n",
    "    #Split rules for leaf[j, i], SplitData[1] == 0, SplitData[2] == i\n",
    "    leaf_split_feature = SplitData[4][np.where((SplitData[1] == Main_TreeIndex) * (SplitData[2] == i))[0]] # Split Feature\n",
    "    leaf_split_sign = SplitData[5][np.where((SplitData[1] == Main_TreeIndex) * (SplitData[2] == i))[0]] # Split Sign\n",
    "    leaf_split_criterion = SplitData[6][np.where((SplitData[1] == Main_TreeIndex) * (SplitData[2] == i))[0]] # Split Criterion\n",
    "    Rules_Leaf_Sibling_1_Tree = np.transpose(np.array([leaf_split_feature, leaf_split_sign, leaf_split_criterion], dtype = object))\n",
    "    for k in np.delete(np.unique(np.array(Vertices_Main[0], dtype = object)[:, 1]), exclude):\n",
    "        leaf_split_feature = SplitData[4][np.where((SplitData[1] == j) * (SplitData[2] == k))[0]] # Split Feature\n",
    "        leaf_split_sign = SplitData[5][np.where((SplitData[1] == j) * (SplitData[2] == k))[0]] # Split Sign\n",
    "        leaf_split_criterion = SplitData[6][np.where((SplitData[1] == j) * (SplitData[2] == k))[0]] # Split Criterion\n",
    "        Rules_Leaf_Sibling2_Tree = np.transpose(np.array([leaf_split_feature, leaf_split_sign, leaf_split_criterion], dtype = object))\n",
    "\n",
    "        if Consistency(Rules_Leaf_Sibling_1_Tree, Rules_Leaf_Sibling_2_Tree) == True:\n",
    "            Vertices_Sub[i].append([str('n'), j, k, SplitData[3][np.where((SplitData[1] == j) * (SplitData[2] == k))[0]][0]])\n",
    "            Edges_Sub[i].append([str('e'), Main_TreeIndex, i, j, k])\n",
    "        print (k)"
   ]
  },
  {
   "cell_type": "code",
   "execution_count": 312,
   "metadata": {},
   "outputs": [
    {
     "data": {
      "text/plain": [
       "array([['n', 2, 0, 5.1398],\n",
       "       ['n', 2, 1, 3.0]], dtype=object)"
      ]
     },
     "execution_count": 312,
     "metadata": {},
     "output_type": "execute_result"
    }
   ],
   "source": [
    "np.array(Vertices_Main[0], dtype = object)[np.where(np.array(Vertices_Main[0], dtype = object)[:, 1] == 2)]"
   ]
  },
  {
   "cell_type": "code",
   "execution_count": 271,
   "metadata": {},
   "outputs": [
    {
     "data": {
      "text/plain": [
       "[['n', 0, 0, 5.0874],\n",
       " ['n', 1, 0, 5.5681],\n",
       " ['n', 1, 2, 5.4071],\n",
       " ['n', 1, 3, 4.7192],\n",
       " ['n', 2, 0, 5.1398],\n",
       " ['n', 2, 1, 3.0],\n",
       " ['n', 3, 0, 5.1404],\n",
       " ['n', 3, 1, 5.4795],\n",
       " ['n', 4, 0, 5.1884],\n",
       " ['n', 4, 1, 4.3043],\n",
       " ['n', 5, 0, 5.1636],\n",
       " ['n', 5, 1, 3.3333],\n",
       " ['n', 6, 0, 5.8909],\n",
       " ['n', 6, 2, 4.9407],\n",
       " ['n', 6, 3, 5.3248],\n",
       " ['n', 7, 0, 6.025],\n",
       " ['n', 7, 1, 7.2857],\n",
       " ['n', 7, 2, 5.1259],\n",
       " ['n', 7, 3, 5.4642],\n",
       " ['n', 8, 0, 5.2767],\n",
       " ['n', 8, 1, 4.3913],\n",
       " ['n', 9, 0, 5.1645],\n",
       " ['n', 9, 1, 4.3333]]"
      ]
     },
     "execution_count": 271,
     "metadata": {},
     "output_type": "execute_result"
    }
   ],
   "source": [
    "Vertices_Main[0] # All the leaf nodes from sibling trees that are consistent with leaf[0,0]\n",
    "Edges_Main[0]"
   ]
  },
  {
   "cell_type": "code",
   "execution_count": 155,
   "metadata": {},
   "outputs": [],
   "source": [
    "#Split rules for leaf[i, j], SplitData[1] == i, SplitData[2] == j\n",
    "leaf_1_split_feature = SplitData[4][np.where((SplitData[1] == 0) * (SplitData[2] == 0))[0]] # Split Feature"
   ]
  },
  {
   "cell_type": "code",
   "execution_count": 156,
   "metadata": {},
   "outputs": [],
   "source": [
    "leaf_1_split_sign = SplitData[5][np.where((SplitData[1] == 0) * (SplitData[2] == 0))[0]] # Split Sign"
   ]
  },
  {
   "cell_type": "code",
   "execution_count": 157,
   "metadata": {
    "scrolled": false
   },
   "outputs": [],
   "source": [
    "leaf_1_split_criterion = SplitData[6][np.where((SplitData[1] == 0) * (SplitData[2] == 0))[0]] # Split Criterion"
   ]
  },
  {
   "cell_type": "code",
   "execution_count": 171,
   "metadata": {},
   "outputs": [
    {
     "data": {
      "text/plain": [
       "array([[10, 0, 10.15],\n",
       "       [9, 0, 0.5749],\n",
       "       [10, 0, 10.55]], dtype=object)"
      ]
     },
     "execution_count": 171,
     "metadata": {},
     "output_type": "execute_result"
    }
   ],
   "source": [
    "Rules_1 = np.transpose(np.array([leaf_1_split_feature, leaf_1_split_sign, leaf_1_split_criterion], dtype = object))\n",
    "Rules_1 # set of rules of leaf[0,0]"
   ]
  },
  {
   "cell_type": "code",
   "execution_count": 161,
   "metadata": {},
   "outputs": [],
   "source": [
    "#Split rules for leaf[i, j], SplitData[1] == i, SplitData[2] == j\n",
    "leaf_2_split_feature = SplitData[4][np.where((SplitData[1] == 1) * (SplitData[2] == 0))[0]] # Split Feature"
   ]
  },
  {
   "cell_type": "code",
   "execution_count": 162,
   "metadata": {},
   "outputs": [],
   "source": [
    "leaf_2_split_sign = SplitData[5][np.where((SplitData[1] == 1) * (SplitData[2] == 0))[0]] # Split Sign"
   ]
  },
  {
   "cell_type": "code",
   "execution_count": 163,
   "metadata": {
    "scrolled": true
   },
   "outputs": [],
   "source": [
    "leaf_2_split_criterion = SplitData[6][np.where((SplitData[1] == 1) * (SplitData[2] == 0))[0]] # Split Criterion"
   ]
  },
  {
   "cell_type": "code",
   "execution_count": 214,
   "metadata": {
    "scrolled": true
   },
   "outputs": [
    {
     "data": {
      "text/plain": [
       "array([[9, 0, 0.675],\n",
       "       [1, 0, 0.405],\n",
       "       [10, 0, 11.55]], dtype=object)"
      ]
     },
     "execution_count": 214,
     "metadata": {},
     "output_type": "execute_result"
    }
   ],
   "source": [
    "Rules_2 = np.transpose(np.array([leaf_2_split_feature, leaf_2_split_sign, leaf_2_split_criterion], dtype = object))\n",
    "Rules_2 # set of rules of leaf[1,0]"
   ]
  },
  {
   "cell_type": "code",
   "execution_count": 177,
   "metadata": {},
   "outputs": [
    {
     "data": {
      "text/plain": [
       "array([[9, 1, 0.675],\n",
       "       [1, 0, 0.405],\n",
       "       [10, 0, 11.55]], dtype=object)"
      ]
     },
     "execution_count": 177,
     "metadata": {},
     "output_type": "execute_result"
    }
   ],
   "source": [
    "#Split rules for leaf[1, 1], SplitData[1] == 1, SplitData[2] == 1, consistency with leaf[0,0] should be False\n",
    "leaf_3_split_feature = SplitData[4][np.where((SplitData[1] == 1) * (SplitData[2] == 1))[0]] # Split Feature\n",
    "leaf_3_split_sign = SplitData[5][np.where((SplitData[1] == 1) * (SplitData[2] == 1))[0]] # Split Sign\n",
    "leaf_3_split_criterion = SplitData[6][np.where((SplitData[1] == 1) * (SplitData[2] == 1))[0]] # Split Criterion\n",
    "Rules_3 = np.transpose(np.array([leaf_3_split_feature, leaf_3_split_sign, leaf_3_split_criterion], dtype = object))\n",
    "Rules_3 # set of rules of leaf[1,0]"
   ]
  },
  {
   "cell_type": "code",
   "execution_count": 150,
   "metadata": {},
   "outputs": [],
   "source": [
    "#function of checking whether two rules(intervals) have non-empty intersection\n",
    "def Intersection(rule_a, rule_b):\n",
    "    if rule_a[0] == rule_b[0]:\n",
    "        if rule_a[1] == rule_b[1]:\n",
    "            return True\n",
    "        else:\n",
    "            if rule_a[1] == 1:\n",
    "                if rule_a[2] < rule_b[2]:\n",
    "                    return True\n",
    "                else:\n",
    "                    return False\n",
    "            else:\n",
    "                if rule_a[2] > rule_b[2]:\n",
    "                    return True\n",
    "                else:\n",
    "                    return False\n",
    "    else:\n",
    "        return True"
   ]
  },
  {
   "cell_type": "code",
   "execution_count": 225,
   "metadata": {},
   "outputs": [],
   "source": [
    "#checking whether two sets of rules have non-empty intersection\n",
    "def Consistency(rule_set_a, rule_set_b):\n",
    "    while True:\n",
    "        for a in rule_set_a:\n",
    "            for b in rule_set_b:\n",
    "                if Intersection(a, b) == True:\n",
    "                    continue\n",
    "                else:\n",
    "                    return False\n",
    "        return True"
   ]
  },
  {
   "cell_type": "code",
   "execution_count": 235,
   "metadata": {},
   "outputs": [
    {
     "name": "stdout",
     "output_type": "stream",
     "text": [
      "[[10 0 10.15]\n",
      " [9 0 0.5749]\n",
      " [10 0 10.55]]\n"
     ]
    }
   ],
   "source": [
    "if Consistency(Rules_1, Rules_2) == True:\n",
    "    print (Rules_1)"
   ]
  },
  {
   "cell_type": "code",
   "execution_count": 226,
   "metadata": {},
   "outputs": [
    {
     "data": {
      "text/plain": [
       "True"
      ]
     },
     "execution_count": 226,
     "metadata": {},
     "output_type": "execute_result"
    }
   ],
   "source": [
    "Consistency(Rules_1, Rules_2)"
   ]
  },
  {
   "cell_type": "code",
   "execution_count": 227,
   "metadata": {},
   "outputs": [
    {
     "data": {
      "text/plain": [
       "False"
      ]
     },
     "execution_count": 227,
     "metadata": {},
     "output_type": "execute_result"
    }
   ],
   "source": [
    "Consistency(Rules_1, Rules_3)"
   ]
  },
  {
   "cell_type": "code",
   "execution_count": 215,
   "metadata": {},
   "outputs": [
    {
     "data": {
      "text/plain": [
       "True"
      ]
     },
     "execution_count": 215,
     "metadata": {},
     "output_type": "execute_result"
    }
   ],
   "source": [
    "rule_test1 = np.array([1, 0, 0.5749], dtype=object)\n",
    "rule_test2 = np.array([9, 1, 0.675], dtype=object)\n",
    "Intersection(rule_test1, rule_test2)"
   ]
  },
  {
   "cell_type": "code",
   "execution_count": 133,
   "metadata": {},
   "outputs": [],
   "source": [
    "rule_test1 = np.array([10, 0, 10.15], dtype=object)"
   ]
  },
  {
   "cell_type": "code",
   "execution_count": 134,
   "metadata": {},
   "outputs": [
    {
     "data": {
      "text/plain": [
       "10"
      ]
     },
     "execution_count": 134,
     "metadata": {},
     "output_type": "execute_result"
    }
   ],
   "source": [
    "rule_test1[0]"
   ]
  },
  {
   "cell_type": "code",
   "execution_count": 97,
   "metadata": {},
   "outputs": [
    {
     "data": {
      "text/plain": [
       "5.55"
      ]
     },
     "execution_count": 97,
     "metadata": {},
     "output_type": "execute_result"
    }
   ],
   "source": [
    "#with Tree Index and Leaf Index, we can locate the rules of that leaf.\n",
    "#[3]: Column in Split table, which is Leaf Value\n",
    "#x[0]: generate Split Index for leaves, Leaf ID = (SplitData[1] == i) * (SplitData[2] == j), i: Tree Index, j: Leaf Index  \n",
    "#[0]: make sure it is the first of that leaf's split information\n",
    "SplitData[3][x[0][0]] # Leaf Value"
   ]
  },
  {
   "cell_type": "code",
   "execution_count": null,
   "metadata": {},
   "outputs": [],
   "source": [
    "SplitData[4][x[0][0]]"
   ]
  },
  {
   "cell_type": "code",
   "execution_count": null,
   "metadata": {},
   "outputs": [],
   "source": [
    "ArbitraryTreeIndex = 0\n",
    "for i in \n"
   ]
  },
  {
   "cell_type": "code",
   "execution_count": null,
   "metadata": {},
   "outputs": [],
   "source": [
    "for i in len"
   ]
  },
  {
   "cell_type": "code",
   "execution_count": 8,
   "metadata": {},
   "outputs": [],
   "source": [
    "import networkx as nx\n",
    "import math\n",
    "import matplotlib.pyplot as plt"
   ]
  },
  {
   "cell_type": "code",
   "execution_count": 16,
   "metadata": {},
   "outputs": [],
   "source": [
    "G = nx.Graph()\n",
    "G_w = nx.Graph()"
   ]
  },
  {
   "cell_type": "code",
   "execution_count": 15,
   "metadata": {},
   "outputs": [
    {
     "ename": "NameError",
     "evalue": "name 'x' is not defined",
     "output_type": "error",
     "traceback": [
      "\u001b[1;31m---------------------------------------------------------------------------\u001b[0m",
      "\u001b[1;31mNameError\u001b[0m                                 Traceback (most recent call last)",
      "\u001b[1;32m<ipython-input-15-f427c9b3abf6>\u001b[0m in \u001b[0;36m<module>\u001b[1;34m\u001b[0m\n\u001b[1;32m----> 1\u001b[1;33m \u001b[0melist\u001b[0m \u001b[1;33m=\u001b[0m \u001b[1;33m[\u001b[0m\u001b[1;33m(\u001b[0m\u001b[0mx\u001b[0m\u001b[1;33m,\u001b[0m \u001b[1;36m2\u001b[0m\u001b[1;33m)\u001b[0m\u001b[1;33m,\u001b[0m \u001b[1;33m(\u001b[0m\u001b[1;36m2\u001b[0m\u001b[1;33m,\u001b[0m \u001b[1;36m3\u001b[0m\u001b[1;33m)\u001b[0m\u001b[1;33m,\u001b[0m \u001b[1;33m(\u001b[0m\u001b[1;36m1\u001b[0m\u001b[1;33m,\u001b[0m \u001b[1;36m4\u001b[0m\u001b[1;33m)\u001b[0m\u001b[1;33m,\u001b[0m \u001b[1;33m(\u001b[0m\u001b[1;36m4\u001b[0m\u001b[1;33m,\u001b[0m \u001b[1;36m2\u001b[0m\u001b[1;33m)\u001b[0m\u001b[1;33m]\u001b[0m\u001b[1;33m\u001b[0m\u001b[1;33m\u001b[0m\u001b[0m\n\u001b[0m\u001b[0;32m      2\u001b[0m \u001b[0mG\u001b[0m\u001b[1;33m.\u001b[0m\u001b[0madd_edges_from\u001b[0m\u001b[1;33m(\u001b[0m\u001b[0melist\u001b[0m\u001b[1;33m)\u001b[0m\u001b[1;33m\u001b[0m\u001b[1;33m\u001b[0m\u001b[0m\n",
      "\u001b[1;31mNameError\u001b[0m: name 'x' is not defined"
     ]
    }
   ],
   "source": [
    "elist = [(x, 2), (2, 3), (1, 4), (4, 2)]\n",
    "G.add_edges_from(elist)"
   ]
  },
  {
   "cell_type": "code",
   "execution_count": 18,
   "metadata": {},
   "outputs": [],
   "source": [
    "elist_w = [('a', 'b', 5.0), ('b', 'c', 3.0), ('a', 'c', 1.0), ('c', 'd', 7.3)]\n",
    "G_w.add_weighted_edges_from(elist_w)"
   ]
  },
  {
   "cell_type": "code",
   "execution_count": 19,
   "metadata": {},
   "outputs": [
    {
     "data": {
      "image/png": "[encoded data removed]",
      "text/plain": [
       "<Figure size 432x288 with 1 Axes>"
      ]
     },
     "metadata": {},
     "output_type": "display_data"
    }
   ],
   "source": [
    "nx.draw(G_w, node_color='r', edge_color='b', with_labels = True)"
   ]
  },
  {
   "cell_type": "code",
   "execution_count": 5,
   "metadata": {},
   "outputs": [],
   "source": [
    "f=open(\"binfile.bin\",\"wb\")\n",
    "num=[5, 10, 15, 20, 25]\n",
    "arr=bytearray(num)\n",
    "f.write(arr)\n",
    "f.close()"
   ]
  },
  {
   "cell_type": "code",
   "execution_count": 6,
   "metadata": {},
   "outputs": [
    {
     "name": "stdout",
     "output_type": "stream",
     "text": [
      "[5, 10, 15, 20, 25]\n"
     ]
    }
   ],
   "source": [
    "f=open(\"binfile.bin\",\"rb\")\n",
    "num=list(f.read())\n",
    "print (num)\n",
    "f.close()"
   ]
  },
  {
   "cell_type": "code",
   "execution_count": 7,
   "metadata": {},
   "outputs": [
    {
     "ename": "SyntaxError",
     "evalue": "EOL while scanning string literal (<ipython-input-7-1f8cf1d1f015>, line 1)",
     "output_type": "error",
     "traceback": [
      "\u001b[1;36m  File \u001b[1;32m\"<ipython-input-7-1f8cf1d1f015>\"\u001b[1;36m, line \u001b[1;32m1\u001b[0m\n\u001b[1;33m    Data = pd.read_csv('C:/Users/cshi/OneDrive - University of Connecticut/2019-20_Fall/First_Year_Project/Random Forest/WineQualityRed/FindMaxClique/BuildGraphInstances/RandomForestsInstances/keller4.clq\u001b[0m\n\u001b[1;37m                                                                                                                                                                                                            ^\u001b[0m\n\u001b[1;31mSyntaxError\u001b[0m\u001b[1;31m:\u001b[0m EOL while scanning string literal\n"
     ]
    }
   ],
   "source": [
    "Data = pd.read_csv('C:/Users/cshi/OneDrive - University of Connecticut/2019-20_Fall/First_Year_Project/Random Forest/WineQualityRed/FindMaxClique/BuildGraphInstances/RandomForestsInstances/keller4.clq\n",
    "                ')\n"
   ]
  }
 ],
 "metadata": {
  "kernelspec": {
   "display_name": "Python 3",
   "language": "python",
   "name": "python3"
  },
  "language_info": {
   "codemirror_mode": {
    "name": "ipython",
    "version": 3
   },
   "file_extension": ".py",
   "mimetype": "text/x-python",
   "name": "python",
   "nbconvert_exporter": "python",
   "pygments_lexer": "ipython3",
   "version": "3.7.3"
  }
 },
 "nbformat": 4,
 "nbformat_minor": 2
}
